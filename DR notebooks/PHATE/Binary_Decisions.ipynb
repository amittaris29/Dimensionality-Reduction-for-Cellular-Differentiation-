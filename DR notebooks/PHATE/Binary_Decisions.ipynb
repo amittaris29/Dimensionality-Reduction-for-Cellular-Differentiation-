{
 "cells": [
  {
   "cell_type": "code",
   "execution_count": 1,
   "id": "d587dc88",
   "metadata": {},
   "outputs": [],
   "source": [
    "#This Implementation is Done on the two separate files for the isolated cells that Addison has identified as involved in either the first or the second binary decision."
   ]
  },
  {
   "cell_type": "code",
   "execution_count": 14,
   "id": "aad4c979",
   "metadata": {},
   "outputs": [
    {
     "ename": "ModuleNotFoundError",
     "evalue": "No module named 'phate'",
     "output_type": "error",
     "traceback": [
      "\u001b[31m---------------------------------------------------------------------------\u001b[39m",
      "\u001b[31mModuleNotFoundError\u001b[39m                       Traceback (most recent call last)",
      "\u001b[36mCell\u001b[39m\u001b[36m \u001b[39m\u001b[32mIn[14]\u001b[39m\u001b[32m, line 7\u001b[39m\n\u001b[32m      5\u001b[39m \u001b[38;5;28;01mfrom\u001b[39;00m\u001b[38;5;250m  \u001b[39m\u001b[34;01mData_Selection\u001b[39;00m\u001b[38;5;250m \u001b[39m\u001b[38;5;28;01mimport\u001b[39;00m *\n\u001b[32m      6\u001b[39m \u001b[38;5;28;01mfrom\u001b[39;00m\u001b[38;5;250m  \u001b[39m\u001b[34;01mData_Selection_for_BD\u001b[39;00m\u001b[38;5;250m \u001b[39m\u001b[38;5;28;01mimport\u001b[39;00m *\n\u001b[32m----> \u001b[39m\u001b[32m7\u001b[39m \u001b[38;5;28;01mimport\u001b[39;00m\u001b[38;5;250m \u001b[39m\u001b[34;01mphate\u001b[39;00m\n",
      "\u001b[31mModuleNotFoundError\u001b[39m: No module named 'phate'"
     ]
    }
   ],
   "source": [
    "import pandas as pd\n",
    "import numpy as np\n",
    "import matplotlib.pyplot as plt\n",
    "from matplotlib.lines import Line2D\n",
    "from  Data_Selection import *\n",
    "from  Data_Selection_for_BD import *\n",
    "import phate"
   ]
  },
  {
   "cell_type": "code",
   "execution_count": 4,
   "id": "c34969f8",
   "metadata": {},
   "outputs": [],
   "source": [
    "# Load CSV files into a DataFrame\n",
    "file1 = '/Users/amittaris/Documents/GitHub/Dimensionality-Reduction-for-Cellular-Differentiation-/DR notebooks/PHATE/datasets/df_facs_decision1.csv'\n",
    "df_facs_decision1 = pd.read_csv(file1)\n",
    "\n",
    "file2 ='/Users/amittaris/Documents/GitHub/Dimensionality-Reduction-for-Cellular-Differentiation-/DR notebooks/PHATE/datasets/df_facs_decision2.csv'\n",
    "df_facs_decision2 = pd.read_csv(file2)\n"
   ]
  },
  {
   "cell_type": "code",
   "execution_count": null,
   "id": "e835f78e",
   "metadata": {},
   "outputs": [
    {
     "data": {
      "text/html": [
       "<div>\n",
       "<style scoped>\n",
       "    .dataframe tbody tr th:only-of-type {\n",
       "        vertical-align: middle;\n",
       "    }\n",
       "\n",
       "    .dataframe tbody tr th {\n",
       "        vertical-align: top;\n",
       "    }\n",
       "\n",
       "    .dataframe thead th {\n",
       "        text-align: right;\n",
       "    }\n",
       "</style>\n",
       "<table border=\"1\" class=\"dataframe\">\n",
       "  <thead>\n",
       "    <tr style=\"text-align: right;\">\n",
       "      <th></th>\n",
       "      <th>TBX6</th>\n",
       "      <th>BRA</th>\n",
       "      <th>CDX2</th>\n",
       "      <th>SOX2</th>\n",
       "      <th>SOX1</th>\n",
       "    </tr>\n",
       "  </thead>\n",
       "  <tbody>\n",
       "    <tr>\n",
       "      <th>0</th>\n",
       "      <td>0.712941</td>\n",
       "      <td>0.245024</td>\n",
       "      <td>1.804050</td>\n",
       "      <td>2.118150</td>\n",
       "      <td>0.748812</td>\n",
       "    </tr>\n",
       "    <tr>\n",
       "      <th>1</th>\n",
       "      <td>0.396271</td>\n",
       "      <td>0.123065</td>\n",
       "      <td>1.012057</td>\n",
       "      <td>2.676406</td>\n",
       "      <td>0.521711</td>\n",
       "    </tr>\n",
       "    <tr>\n",
       "      <th>2</th>\n",
       "      <td>0.647942</td>\n",
       "      <td>0.200438</td>\n",
       "      <td>1.300215</td>\n",
       "      <td>5.706961</td>\n",
       "      <td>0.646797</td>\n",
       "    </tr>\n",
       "    <tr>\n",
       "      <th>3</th>\n",
       "      <td>0.425355</td>\n",
       "      <td>0.157897</td>\n",
       "      <td>0.854942</td>\n",
       "      <td>1.748533</td>\n",
       "      <td>0.441205</td>\n",
       "    </tr>\n",
       "    <tr>\n",
       "      <th>4</th>\n",
       "      <td>0.381848</td>\n",
       "      <td>0.096692</td>\n",
       "      <td>0.729118</td>\n",
       "      <td>0.508345</td>\n",
       "      <td>0.481436</td>\n",
       "    </tr>\n",
       "  </tbody>\n",
       "</table>\n",
       "</div>"
      ],
      "text/plain": [
       "       TBX6       BRA      CDX2      SOX2      SOX1\n",
       "0  0.712941  0.245024  1.804050  2.118150  0.748812\n",
       "1  0.396271  0.123065  1.012057  2.676406  0.521711\n",
       "2  0.647942  0.200438  1.300215  5.706961  0.646797\n",
       "3  0.425355  0.157897  0.854942  1.748533  0.441205\n",
       "4  0.381848  0.096692  0.729118  0.508345  0.481436"
      ]
     },
     "execution_count": 12,
     "metadata": {},
     "output_type": "execute_result"
    }
   ],
   "source": [
    "selected_data_1, combined_equal_data  = data_selector_for_bd(7200, df_facs_decision1)\n",
    "selected_data_2, combined_equal_data  = data_selector_for_bd(7200, df_facs_decision2)"
   ]
  }
 ],
 "metadata": {
  "kernelspec": {
   "display_name": "Python 3",
   "language": "python",
   "name": "python3"
  },
  "language_info": {
   "codemirror_mode": {
    "name": "ipython",
    "version": 3
   },
   "file_extension": ".py",
   "mimetype": "text/x-python",
   "name": "python",
   "nbconvert_exporter": "python",
   "pygments_lexer": "ipython3",
   "version": "3.13.0"
  }
 },
 "nbformat": 4,
 "nbformat_minor": 5
}
