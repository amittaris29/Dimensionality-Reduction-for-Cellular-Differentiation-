{
 "cells": [
  {
   "cell_type": "markdown",
   "id": "f1ae2b16",
   "metadata": {},
   "source": [
    "# Neural ODEs general review"
   ]
  },
  {
   "cell_type": "code",
   "execution_count": null,
   "id": "b2adf86b",
   "metadata": {},
   "outputs": [],
   "source": []
  }
 ],
 "metadata": {
  "language_info": {
   "name": "python"
  }
 },
 "nbformat": 4,
 "nbformat_minor": 5
}
