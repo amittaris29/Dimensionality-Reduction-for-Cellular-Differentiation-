{
 "cells": [
  {
   "cell_type": "markdown",
   "id": "eb4d88de",
   "metadata": {},
   "source": [
    "# Multiscale PHATE"
   ]
  },
  {
   "cell_type": "code",
   "execution_count": 1,
   "id": "78ad901e",
   "metadata": {},
   "outputs": [
    {
     "name": "stdout",
     "output_type": "stream",
     "text": [
      "Collecting git+https://github.com/KrishnaswamyLab/Multiscale_PHATE\n",
      "  Cloning https://github.com/KrishnaswamyLab/Multiscale_PHATE to /private/var/folders/n_/71k4tw3x1m3b_1yxyb68trv00000gn/T/pip-req-build-63ni4bn0\n",
      "  Running command git clone --filter=blob:none --quiet https://github.com/KrishnaswamyLab/Multiscale_PHATE /private/var/folders/n_/71k4tw3x1m3b_1yxyb68trv00000gn/T/pip-req-build-63ni4bn0\n",
      "  Resolved https://github.com/KrishnaswamyLab/Multiscale_PHATE to commit fe2a904fb05425c0fedd0de0a5b8e11ff4bf0f91\n",
      "  Preparing metadata (setup.py) ... \u001b[?25ldone\n",
      "\u001b[?25hRequirement already satisfied: numpy in /opt/anaconda3/lib/python3.12/site-packages (from multiscale_phate==0.0) (1.26.4)\n",
      "Requirement already satisfied: scipy in /opt/anaconda3/lib/python3.12/site-packages (from multiscale_phate==0.0) (1.13.1)\n",
      "Requirement already satisfied: graphtools in /opt/anaconda3/lib/python3.12/site-packages (from multiscale_phate==0.0) (1.5.3)\n",
      "Requirement already satisfied: phate in /opt/anaconda3/lib/python3.12/site-packages (from multiscale_phate==0.0) (1.0.11)\n",
      "Requirement already satisfied: scikit-learn in /opt/anaconda3/lib/python3.12/site-packages (from multiscale_phate==0.0) (1.5.1)\n",
      "Requirement already satisfied: tasklogger in /opt/anaconda3/lib/python3.12/site-packages (from multiscale_phate==0.0) (1.2.0)\n",
      "Requirement already satisfied: joblib in /opt/anaconda3/lib/python3.12/site-packages (from multiscale_phate==0.0) (1.4.2)\n",
      "Requirement already satisfied: pygsp>=0.5.1 in /opt/anaconda3/lib/python3.12/site-packages (from graphtools->multiscale_phate==0.0) (0.5.1)\n",
      "Requirement already satisfied: future in /opt/anaconda3/lib/python3.12/site-packages (from graphtools->multiscale_phate==0.0) (1.0.0)\n",
      "Requirement already satisfied: Deprecated in /opt/anaconda3/lib/python3.12/site-packages (from graphtools->multiscale_phate==0.0) (1.2.18)\n",
      "Requirement already satisfied: threadpoolctl>=3.1.0 in /opt/anaconda3/lib/python3.12/site-packages (from scikit-learn->multiscale_phate==0.0) (3.5.0)\n",
      "Requirement already satisfied: scprep>=0.11.1 in /opt/anaconda3/lib/python3.12/site-packages (from phate->multiscale_phate==0.0) (1.2.3)\n",
      "Requirement already satisfied: s-gd2>=1.8.1 in /opt/anaconda3/lib/python3.12/site-packages (from phate->multiscale_phate==0.0) (1.8.1)\n",
      "Requirement already satisfied: matplotlib>=3.0 in /opt/anaconda3/lib/python3.12/site-packages (from phate->multiscale_phate==0.0) (3.9.2)\n",
      "Requirement already satisfied: contourpy>=1.0.1 in /opt/anaconda3/lib/python3.12/site-packages (from matplotlib>=3.0->phate->multiscale_phate==0.0) (1.2.0)\n",
      "Requirement already satisfied: cycler>=0.10 in /opt/anaconda3/lib/python3.12/site-packages (from matplotlib>=3.0->phate->multiscale_phate==0.0) (0.11.0)\n",
      "Requirement already satisfied: fonttools>=4.22.0 in /opt/anaconda3/lib/python3.12/site-packages (from matplotlib>=3.0->phate->multiscale_phate==0.0) (4.51.0)\n",
      "Requirement already satisfied: kiwisolver>=1.3.1 in /opt/anaconda3/lib/python3.12/site-packages (from matplotlib>=3.0->phate->multiscale_phate==0.0) (1.4.4)\n",
      "Requirement already satisfied: packaging>=20.0 in /opt/anaconda3/lib/python3.12/site-packages (from matplotlib>=3.0->phate->multiscale_phate==0.0) (24.1)\n",
      "Requirement already satisfied: pillow>=8 in /opt/anaconda3/lib/python3.12/site-packages (from matplotlib>=3.0->phate->multiscale_phate==0.0) (10.4.0)\n",
      "Requirement already satisfied: pyparsing>=2.3.1 in /opt/anaconda3/lib/python3.12/site-packages (from matplotlib>=3.0->phate->multiscale_phate==0.0) (3.1.2)\n",
      "Requirement already satisfied: python-dateutil>=2.7 in /opt/anaconda3/lib/python3.12/site-packages (from matplotlib>=3.0->phate->multiscale_phate==0.0) (2.9.0.post0)\n",
      "Requirement already satisfied: decorator>=4.3.0 in /opt/anaconda3/lib/python3.12/site-packages (from scprep>=0.11.1->phate->multiscale_phate==0.0) (5.1.1)\n",
      "Requirement already satisfied: pandas<2.1,>=0.25 in /opt/anaconda3/lib/python3.12/site-packages (from scprep>=0.11.1->phate->multiscale_phate==0.0) (2.0.3)\n",
      "Requirement already satisfied: wrapt<2,>=1.10 in /opt/anaconda3/lib/python3.12/site-packages (from Deprecated->graphtools->multiscale_phate==0.0) (1.14.1)\n",
      "Requirement already satisfied: pytz>=2020.1 in /opt/anaconda3/lib/python3.12/site-packages (from pandas<2.1,>=0.25->scprep>=0.11.1->phate->multiscale_phate==0.0) (2024.1)\n",
      "Requirement already satisfied: tzdata>=2022.1 in /opt/anaconda3/lib/python3.12/site-packages (from pandas<2.1,>=0.25->scprep>=0.11.1->phate->multiscale_phate==0.0) (2023.3)\n",
      "Requirement already satisfied: six>=1.5 in /opt/anaconda3/lib/python3.12/site-packages (from python-dateutil>=2.7->matplotlib>=3.0->phate->multiscale_phate==0.0) (1.16.0)\n",
      "Building wheels for collected packages: multiscale_phate\n",
      "  Building wheel for multiscale_phate (setup.py) ... \u001b[?25ldone\n",
      "\u001b[?25h  Created wheel for multiscale_phate: filename=multiscale_phate-0.0-py3-none-any.whl size=17178 sha256=005bbe5ffefb705f585d3f068694c857dc1cd5560ffd10bd79d7d582537c718a\n",
      "  Stored in directory: /private/var/folders/n_/71k4tw3x1m3b_1yxyb68trv00000gn/T/pip-ephem-wheel-cache-uf2w9ycf/wheels/b6/df/22/c321f8554347eca78725e313902dc4e095a60fecdb729a84a9\n",
      "Successfully built multiscale_phate\n",
      "Installing collected packages: multiscale_phate\n",
      "Successfully installed multiscale_phate-0.0\n"
     ]
    }
   ],
   "source": [
    "!pip install git+https://github.com/KrishnaswamyLab/Multiscale_PHATE"
   ]
  },
  {
   "cell_type": "code",
   "execution_count": 2,
   "id": "d32bb09f",
   "metadata": {},
   "outputs": [
    {
     "name": "stdout",
     "output_type": "stream",
     "text": [
      "Requirement already satisfied: scprep in /opt/anaconda3/lib/python3.12/site-packages (1.2.3)\n",
      "Requirement already satisfied: numpy>=1.12.0 in /opt/anaconda3/lib/python3.12/site-packages (from scprep) (1.26.4)\n",
      "Requirement already satisfied: scipy>=0.18.1 in /opt/anaconda3/lib/python3.12/site-packages (from scprep) (1.13.1)\n",
      "Requirement already satisfied: scikit-learn>=0.19.1 in /opt/anaconda3/lib/python3.12/site-packages (from scprep) (1.5.1)\n",
      "Requirement already satisfied: decorator>=4.3.0 in /opt/anaconda3/lib/python3.12/site-packages (from scprep) (5.1.1)\n",
      "Requirement already satisfied: pandas<2.1,>=0.25 in /opt/anaconda3/lib/python3.12/site-packages (from scprep) (2.0.3)\n",
      "Requirement already satisfied: packaging in /opt/anaconda3/lib/python3.12/site-packages (from scprep) (24.1)\n",
      "Requirement already satisfied: python-dateutil>=2.8.2 in /opt/anaconda3/lib/python3.12/site-packages (from pandas<2.1,>=0.25->scprep) (2.9.0.post0)\n",
      "Requirement already satisfied: pytz>=2020.1 in /opt/anaconda3/lib/python3.12/site-packages (from pandas<2.1,>=0.25->scprep) (2024.1)\n",
      "Requirement already satisfied: tzdata>=2022.1 in /opt/anaconda3/lib/python3.12/site-packages (from pandas<2.1,>=0.25->scprep) (2023.3)\n",
      "Requirement already satisfied: joblib>=1.2.0 in /opt/anaconda3/lib/python3.12/site-packages (from scikit-learn>=0.19.1->scprep) (1.4.2)\n",
      "Requirement already satisfied: threadpoolctl>=3.1.0 in /opt/anaconda3/lib/python3.12/site-packages (from scikit-learn>=0.19.1->scprep) (3.5.0)\n",
      "Requirement already satisfied: six>=1.5 in /opt/anaconda3/lib/python3.12/site-packages (from python-dateutil>=2.8.2->pandas<2.1,>=0.25->scprep) (1.16.0)\n"
     ]
    }
   ],
   "source": [
    "!pip install scprep"
   ]
  },
  {
   "cell_type": "code",
   "execution_count": 3,
   "id": "adf9708a",
   "metadata": {},
   "outputs": [],
   "source": [
    "import multiscale_phate as mp\n",
    "import numpy as np\n",
    "import pandas as pd\n"
   ]
  },
  {
   "cell_type": "code",
   "execution_count": 4,
   "id": "89b27f53",
   "metadata": {},
   "outputs": [],
   "source": [
    "# Load CSV files into a DataFrame\n",
    "file1 = '/Users/amittaris/Documents/GitHub/Dimensionality-Reduction-for-Cellular-Differentiation-/DR notebooks/PHATE/datasets/df_facs_decision1.csv'\n",
    "df_facs_decision1 = pd.read_csv(file1)"
   ]
  },
  {
   "cell_type": "code",
   "execution_count": 6,
   "id": "e6689d99",
   "metadata": {},
   "outputs": [],
   "source": [
    "# Forcefully define valid timepoints\n",
    "genes = df_facs_decision1.drop(df_facs_decision1.columns[[0,1,7,9,10]], axis=1) \n",
    "\n",
    "\n",
    "valid_timepoints_for_1 = [2.0, 2.5, 3.0, 3.5]\n",
    "filtered_df = genes[genes['timepoint'].isin(valid_timepoints_for_1)]\n",
    "\n",
    "cell_types_0 = filtered_df[filtered_df['cluster_post_replacement'].isin([0])]\n",
    "cell_types_1 = filtered_df[filtered_df['cluster_post_replacement'].isin([1])]\n",
    "cell_types_2 = filtered_df[filtered_df['cluster_post_replacement'].isin([2])]\n",
    "cell_types_3 = filtered_df[filtered_df['cluster_post_replacement'].isin([3])]\n",
    "\n",
    "phate_data = filtered_df.drop(filtered_df.columns[[5, 6, 7]], axis=1)"
   ]
  },
  {
   "cell_type": "code",
   "execution_count": null,
   "id": "e037ae19",
   "metadata": {},
   "outputs": [
    {
     "name": "stdout",
     "output_type": "stream",
     "text": [
      "Calculating Multiscale PHATE tree...\n",
      "  Calculating PCA...\n",
      "  Calculated PCA in 0.07 seconds.\n",
      "  Calculating diffusion potential...\n",
      "  Calculated diffusion potential in 393.42 seconds.\n"
     ]
    }
   ],
   "source": [
    "mp_op = mp.Multiscale_PHATE(random_state=1)\n",
    "\n",
    "ms_phate_data = mp_op.fit(phate_data)"
   ]
  }
 ],
 "metadata": {
  "kernelspec": {
   "display_name": "base",
   "language": "python",
   "name": "python3"
  },
  "language_info": {
   "codemirror_mode": {
    "name": "ipython",
    "version": 3
   },
   "file_extension": ".py",
   "mimetype": "text/x-python",
   "name": "python",
   "nbconvert_exporter": "python",
   "pygments_lexer": "ipython3",
   "version": "3.12.2"
  }
 },
 "nbformat": 4,
 "nbformat_minor": 5
}
