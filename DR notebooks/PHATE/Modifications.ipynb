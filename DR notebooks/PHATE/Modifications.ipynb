{
 "cells": [
  {
   "cell_type": "markdown",
   "metadata": {},
   "source": [
    "Modifications to the simple Method\n"
   ]
  },
  {
   "cell_type": "code",
   "execution_count": 29,
   "metadata": {},
   "outputs": [],
   "source": [
    "import phate\n",
    "import pandas as pd\n",
    "import numpy as np\n",
    "import matplotlib.pyplot as plt\n",
    "from matplotlib.lines import Line2D\n",
    "from  Data_Selection import *\n",
    "import seaborn as sns\n",
    "from sklearn.metrics import pairwise_distances"
   ]
  },
  {
   "cell_type": "code",
   "execution_count": 27,
   "metadata": {},
   "outputs": [
    {
     "name": "stdout",
     "output_type": "stream",
     "text": [
      "   cellidx      TBX6       BRA      CDX2      SOX2      SOX1  \\\n",
      "0        0  0.541198  0.228724  1.136731  2.638387  0.676792   \n",
      "1        1  0.562709  0.153176  1.251472  0.776583  0.694261   \n",
      "2        2  0.637590  0.240679  1.486664  3.752942  0.682324   \n",
      "3        3  0.640359  0.184531  1.614646  4.068103  0.828319   \n",
      "4        4  0.639919  0.153728  1.823096  2.079683  0.990685   \n",
      "\n",
      "                   filename  timepoint  sample  \n",
      "0  D2.5_A2_A02_003.fcs .csv        2.5       0  \n",
      "1  D2.5_A2_A02_003.fcs .csv        2.5       0  \n",
      "2  D2.5_A2_A02_003.fcs .csv        2.5       0  \n",
      "3  D2.5_A2_A02_003.fcs .csv        2.5       0  \n",
      "4  D2.5_A2_A02_003.fcs .csv        2.5       0  \n"
     ]
    }
   ],
   "source": [
    "# Load CSV into a DataFrame\n",
    "file = 'df_main.csv'\n",
    "data = pd.read_csv(file)\n",
    "\n",
    "# Display the first few rows of the data\n",
    "print(data.head())"
   ]
  },
  {
   "cell_type": "code",
   "execution_count": 28,
   "metadata": {},
   "outputs": [],
   "source": [
    "selected_data, combined_equal_data  = data_selector(7200, file)"
   ]
  },
  {
   "cell_type": "code",
   "execution_count": null,
   "metadata": {},
   "outputs": [],
   "source": [
    "dists = pairwise_distances(selected_data)\n",
    "sns.histplot(dists[np.triu_indices_from(dists, k=1)], bins=100)\n",
    "plt.title(\"Pairwise Distance Distribution\")\n",
    "plt.show()"
   ]
  }
 ],
 "metadata": {
  "kernelspec": {
   "display_name": "base",
   "language": "python",
   "name": "python3"
  },
  "language_info": {
   "codemirror_mode": {
    "name": "ipython",
    "version": 3
   },
   "file_extension": ".py",
   "mimetype": "text/x-python",
   "name": "python",
   "nbconvert_exporter": "python",
   "pygments_lexer": "ipython3",
   "version": "3.12.2"
  }
 },
 "nbformat": 4,
 "nbformat_minor": 2
}
